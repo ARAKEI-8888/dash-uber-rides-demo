{
 "cells": [
  {
   "cell_type": "code",
   "execution_count": 9,
   "metadata": {
    "collapsed": false
   },
   "outputs": [],
   "source": [
    "import dash\n",
    "from dash.dependencies import Input, Output, State, Event\n",
    "import dash_core_components as dcc\n",
    "import dash_html_components as html\n",
    "import plotly.plotly as py\n",
    "from plotly import graph_objs as go\n",
    "from plotly.graph_objs import *\n",
    "from flask import Flask\n",
    "import pandas as pd\n",
    "import numpy as np\n",
    "import os\n",
    "import cPickle as pickle\n",
    "\n",
    "server = Flask('my app')\n",
    "server.secret_key = os.environ.get('secret_key', 'secret')\n",
    "\n",
    "app = dash.Dash('UberApp', server=server)\n"
   ]
  },
  {
   "cell_type": "code",
   "execution_count": 10,
   "metadata": {
    "collapsed": false
   },
   "outputs": [],
   "source": [
    "\n",
    "if 'DYNO' in os.environ:\n",
    "    app.scripts.append_script({\n",
    "        'external_url': 'https://cdn.rawgit.com/chriddyp/ca0d8f02a1659981a0ea7f013a378bbd/raw/e79f3f789517deec58f41251f7dbb6bee72c44ab/plotly_ga.js'\n",
    "    })\n",
    "\n",
    "\n",
    "\n",
    "mapbox_access_token = 'pk.eyJ1IjoiYWxpc2hvYmVpcmkiLCJhIjoiY2ozYnM3YTUxMDAxeDMzcGNjbmZyMmplZiJ9.ZjmQ0C2MNs1AzEBC_Syadg'\n",
    "\n",
    "df = pd.read_csv('https://www.dropbox.com/s/vxe7623o7eqbe6n/output.csv?dl=1')\n",
    "df.drop(\"Unnamed: 0\", 1, inplace=True)\n",
    "df[\"Date/Time\"] = pd.to_datetime(df[\"Date/Time\"], format=\"%Y-%m-%d %H:%M:%S\")\n",
    "df.index = df[\"Date/Time\"]\n",
    "df.drop(\"Date/Time\", 1, inplace=True)\n",
    "df.drop(\"Base\", 1, inplace=True)\n",
    "totalList = []\n",
    "for month in df.groupby(df.index.month):\n",
    "    dailyList = []\n",
    "    for day in month[1].groupby(month[1].index.day):\n",
    "        dailyList.append(day[1])\n",
    "    totalList.append(dailyList)"
   ]
  },
  {
   "cell_type": "code",
   "execution_count": 15,
   "metadata": {
    "collapsed": false
   },
   "outputs": [],
   "source": [
    "fileObject = open('test','wb')\n",
    "test = pickle.dumps(totalList, 0)"
   ]
  },
  {
   "cell_type": "code",
   "execution_count": null,
   "metadata": {
    "collapsed": true
   },
   "outputs": [],
   "source": []
  }
 ],
 "metadata": {
  "kernelspec": {
   "display_name": "Python 2",
   "language": "python",
   "name": "python2"
  },
  "language_info": {
   "codemirror_mode": {
    "name": "ipython",
    "version": 2
   },
   "file_extension": ".py",
   "mimetype": "text/x-python",
   "name": "python",
   "nbconvert_exporter": "python",
   "pygments_lexer": "ipython2",
   "version": "2.7.13"
  }
 },
 "nbformat": 4,
 "nbformat_minor": 2
}
